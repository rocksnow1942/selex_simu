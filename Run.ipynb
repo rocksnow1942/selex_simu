{
 "cells": [
  {
   "cell_type": "code",
   "execution_count": 1,
   "metadata": {},
   "outputs": [],
   "source": [
    "from selexer import Pool, NormalDistPool, Round, Selection,poolBindingTest\n",
    "import numpy as np"
   ]
  },
  {
   "cell_type": "code",
   "execution_count": 4,
   "metadata": {},
   "outputs": [
    {
     "name": "stdout",
     "output_type": "stream",
     "text": [
      "Help on class NormalDistPool in module selexer:\n",
      "\n",
      "class NormalDistPool(Pool)\n",
      " |  NormalDistPool(bins, kdrange=[0.001, 100000000.0], koff=1, nonspecific=None, pcrE=2, kdavg=1000000.0, kdstd=0.5, name='Lib')\n",
      " |  \n",
      " |  represents a pool.\n",
      " |  newly generated property:\n",
      " |  self.amplifycycle: cycles amplified.\n",
      " |  self.nscount: count that is from nonspecific binding, after wash, the leftover of nsbinding.\n",
      " |  self.sbcount: after wash the leftover count that is from specific binding.\n",
      " |  \n",
      " |  Method resolution order:\n",
      " |      NormalDistPool\n",
      " |      Pool\n",
      " |      builtins.object\n",
      " |  \n",
      " |  Methods defined here:\n",
      " |  \n",
      " |  __init__(self, bins, kdrange=[0.001, 100000000.0], koff=1, nonspecific=None, pcrE=2, kdavg=1000000.0, kdstd=0.5, name='Lib')\n",
      " |      Kd in nM,\n",
      " |      normal distribution on Log Concentration scale.\n",
      " |  \n",
      " |  ----------------------------------------------------------------------\n",
      " |  Methods inherited from Pool:\n",
      " |  \n",
      " |  __repr__(self)\n",
      " |      Return repr(self).\n",
      " |  \n",
      " |  amplify(self, targetcount=None, cycle=None)\n",
      " |  \n",
      " |  plotPoolHist(self, xaxis='kds', marker=',', color='tab10', cumulative=False, **kwargs)\n",
      " |  \n",
      " |  setupPool(self, totalcount, rareTreat='chance')\n",
      " |      give the total copynumber,\n",
      " |      rareTreat: change, or probability or a fraction number as the chance.\n",
      " |  \n",
      " |  wash(self, washTime, nsOffrate=None, nsHalflife=None)\n",
      " |      washTime: in minutes\n",
      " |      nsHalflife : in minutes\n",
      " |      WIll update self.nscount and create self.sbcount.\n",
      " |  \n",
      " |  ----------------------------------------------------------------------\n",
      " |  Data descriptors inherited from Pool:\n",
      " |  \n",
      " |  __dict__\n",
      " |      dictionary for instance variables (if defined)\n",
      " |  \n",
      " |  __weakref__\n",
      " |      list of weak references to the object (if defined)\n",
      " |  \n",
      " |  meanKd\n",
      " |      this is pool average kd\n",
      " |  \n",
      " |  totalcount\n",
      "\n"
     ]
    }
   ],
   "source": [
    "help(NormalDistPool)"
   ]
  },
  {
   "cell_type": "code",
   "execution_count": 5,
   "metadata": {},
   "outputs": [],
   "source": [
    "lib = NormalDistPool(10000, kdrange=[1, 1e6],\n",
    "            koff=np.log(2)/3600, nonspecific=None, pcrE=2, kdavg=1.0, kdstd=0.5, name='Lib')\n",
    "\n"
   ]
  },
  {
   "cell_type": "code",
   "execution_count": null,
   "metadata": {},
   "outputs": [],
   "source": []
  },
  {
   "cell_type": "code",
   "execution_count": null,
   "metadata": {},
   "outputs": [],
   "source": []
  },
  {
   "cell_type": "code",
   "execution_count": null,
   "metadata": {},
   "outputs": [],
   "source": []
  },
  {
   "cell_type": "code",
   "execution_count": null,
   "metadata": {},
   "outputs": [],
   "source": []
  },
  {
   "cell_type": "code",
   "execution_count": null,
   "metadata": {},
   "outputs": [],
   "source": []
  }
 ],
 "metadata": {
  "kernelspec": {
   "display_name": "Python 3",
   "language": "python",
   "name": "python3"
  },
  "language_info": {
   "codemirror_mode": {
    "name": "ipython",
    "version": 3
   },
   "file_extension": ".py",
   "mimetype": "text/x-python",
   "name": "python",
   "nbconvert_exporter": "python",
   "pygments_lexer": "ipython3",
   "version": "3.7.3"
  }
 },
 "nbformat": 4,
 "nbformat_minor": 2
}
