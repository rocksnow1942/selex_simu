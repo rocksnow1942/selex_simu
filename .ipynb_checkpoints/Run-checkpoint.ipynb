{
 "cells": [
  {
   "cell_type": "code",
   "execution_count": 1,
   "metadata": {},
   "outputs": [],
   "source": [
    "from selexer import Pool, NormalDistPool, Round, Selection,poolBindingTest\n",
    "import numpy as np"
   ]
  },
  {
   "cell_type": "code",
   "execution_count": 3,
   "metadata": {},
   "outputs": [
    {
     "name": "stdout",
     "output_type": "stream",
     "text": [
      "Help on class Pool in module selexer:\n",
      "\n",
      "class Pool(builtins.object)\n",
      " |  Pool(kon=None, koff=None, Thalf=None, kds=None, frequency=None, nonspecific=None, pcrE=2, count=[], name='Lib')\n",
      " |  \n",
      " |  represents a pool.\n",
      " |  newly generated property:\n",
      " |  self.amplifycycle: cycles amplified.\n",
      " |  self.nscount: count that is from nonspecific binding, after wash, the leftover of nsbinding.\n",
      " |  self.sbcount: after wash the leftover count that is from specific binding.\n",
      " |  \n",
      " |  Methods defined here:\n",
      " |  \n",
      " |  __init__(self, kon=None, koff=None, Thalf=None, kds=None, frequency=None, nonspecific=None, pcrE=2, count=[], name='Lib')\n",
      " |      kon is an array of pool sequence on rate in nM-1s-1.\n",
      " |      koff is an array of pool sequence off rate in s-1\n",
      " |      kds is an array of pool sequence Kd in nM.\n",
      " |      Thalf is pool off half life in minutes.\n",
      " |      frequency is the relative frequency of each sequence.\n",
      " |      nonspecific is the relative nonspecific binding ability. default is 1.\n",
      " |      2 is 2 fold more likely to bind; 0.5 is half.\n",
      " |      pcrE is the pcr efficiency of each sequence. between 1 and 2;\n",
      " |      pcrE can also be an array of efficiency for each sequence.\n",
      " |  \n",
      " |  __repr__(self)\n",
      " |      Return repr(self).\n",
      " |  \n",
      " |  amplify(self, targetcount=None, cycle=None)\n",
      " |  \n",
      " |  plotPoolHist(self, xaxis='kds', marker=',', color='tab10', cumulative=False, **kwargs)\n",
      " |  \n",
      " |  setupPool(self, totalcount, rareTreat='chance')\n",
      " |      give the total copynumber,\n",
      " |      rareTreat: change, or probability or a fraction number as the chance.\n",
      " |  \n",
      " |  wash(self, washTime, nsOffrate=None, nsHalflife=None)\n",
      " |      washTime: in minutes\n",
      " |      nsHalflife : in minutes\n",
      " |      WIll update self.nscount and create self.sbcount.\n",
      " |  \n",
      " |  ----------------------------------------------------------------------\n",
      " |  Data descriptors defined here:\n",
      " |  \n",
      " |  __dict__\n",
      " |      dictionary for instance variables (if defined)\n",
      " |  \n",
      " |  __weakref__\n",
      " |      list of weak references to the object (if defined)\n",
      " |  \n",
      " |  meanKd\n",
      " |      this is pool average kd\n",
      " |  \n",
      " |  totalcount\n",
      "\n"
     ]
    }
   ],
   "source": [
    "help(Pool)"
   ]
  },
  {
   "cell_type": "code",
   "execution_count": null,
   "metadata": {},
   "outputs": [],
   "source": []
  }
 ],
 "metadata": {
  "kernelspec": {
   "display_name": "Python 3",
   "language": "python",
   "name": "python3"
  },
  "language_info": {
   "codemirror_mode": {
    "name": "ipython",
    "version": 3
   },
   "file_extension": ".py",
   "mimetype": "text/x-python",
   "name": "python",
   "nbconvert_exporter": "python",
   "pygments_lexer": "ipython3",
   "version": "3.7.3"
  }
 },
 "nbformat": 4,
 "nbformat_minor": 2
}
