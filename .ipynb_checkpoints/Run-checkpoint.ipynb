{
 "cells": [
  {
   "cell_type": "code",
   "execution_count": 1,
   "metadata": {},
   "outputs": [],
   "source": [
    "from selexer import Pool, NormalDistPool, Round, Selection,poolBindingTest\n",
    "import numpy as np"
   ]
  },
  {
   "cell_type": "code",
   "execution_count": 4,
   "metadata": {},
   "outputs": [
    {
     "name": "stdout",
     "output_type": "stream",
     "text": [
      "Help on class NormalDistPool in module selexer:\n",
      "\n",
      "class NormalDistPool(Pool)\n",
      " |  NormalDistPool(bins, kdrange=[0.001, 100000000.0], koff=1, nonspecific=None, pcrE=2, kdavg=1000000.0, kdstd=0.5, name='Lib')\n",
      " |  \n",
      " |  represents a pool.\n",
      " |  newly generated property:\n",
      " |  self.amplifycycle: cycles amplified.\n",
      " |  self.nscount: count that is from nonspecific binding, after wash, the leftover of nsbinding.\n",
      " |  self.sbcount: after wash the leftover count that is from specific binding.\n",
      " |  \n",
      " |  Method resolution order:\n",
      " |      NormalDistPool\n",
      " |      Pool\n",
      " |      builtins.object\n",
      " |  \n",
      " |  Methods defined here:\n",
      " |  \n",
      " |  __init__(self, bins, kdrange=[0.001, 100000000.0], koff=1, nonspecific=None, pcrE=2, kdavg=1000000.0, kdstd=0.5, name='Lib')\n",
      " |      Kd in nM,\n",
      " |      normal distribution on Log Concentration scale.\n",
      " |  \n",
      " |  ----------------------------------------------------------------------\n",
      " |  Methods inherited from Pool:\n",
      " |  \n",
      " |  __repr__(self)\n",
      " |      Return repr(self).\n",
      " |  \n",
      " |  amplify(self, targetcount=None, cycle=None)\n",
      " |  \n",
      " |  plotPoolHist(self, xaxis='kds', marker=',', color='tab10', cumulative=False, **kwargs)\n",
      " |  \n",
      " |  setupPool(self, totalcount, rareTreat='chance')\n",
      " |      give the total copynumber,\n",
      " |      rareTreat: change, or probability or a fraction number as the chance.\n",
      " |  \n",
      " |  wash(self, washTime, nsOffrate=None, nsHalflife=None)\n",
      " |      washTime: in minutes\n",
      " |      nsHalflife : in minutes\n",
      " |      WIll update self.nscount and create self.sbcount.\n",
      " |  \n",
      " |  ----------------------------------------------------------------------\n",
      " |  Data descriptors inherited from Pool:\n",
      " |  \n",
      " |  __dict__\n",
      " |      dictionary for instance variables (if defined)\n",
      " |  \n",
      " |  __weakref__\n",
      " |      list of weak references to the object (if defined)\n",
      " |  \n",
      " |  meanKd\n",
      " |      this is pool average kd\n",
      " |  \n",
      " |  totalcount\n",
      "\n"
     ]
    }
   ],
   "source": [
    "help(NormalDistPool)"
   ]
  },
  {
   "cell_type": "code",
   "execution_count": 18,
   "metadata": {},
   "outputs": [
    {
     "name": "stdout",
     "output_type": "stream",
     "text": [
      "Pool Lib Sequence with count < 1 are chosen by 0.001.\n",
      "Pool Lib binding half life 6.48e-01 ~ 1.13e+09 minutes.\n",
      "Round R1 lose best binder in pool chance: 0.02%\n",
      "Pool Lib fast stochastic count 2\n",
      "Pool Lib slow stochastic count 644\n",
      "Run solveBindingKinetics 3 times: avg: 1.73718s; para:(Round R1,){'stochasticCutoff': 1000.0, 'seCutoff': 0.0001, 'maxiteration': 10000.0}\n",
      "Pool R1  amplified 10 cycles, from 1.81e+11 to 1.85e+14\n"
     ]
    }
   ],
   "source": [
    "from selexer import Pool, NormalDistPool, Round, Selection,poolBindingTest\n",
    "import numpy as np\n",
    "from selexer import mprint\n",
    "\n",
    "mprint.printToScreen = True\n",
    "\n",
    "np.random.seed(10)\n",
    "thalf = np.random.random(10000) * (120-1) + 1\n",
    "lib = NormalDistPool(bins=1e4,kdrange=[1e-3,1e8],koff=np.log(2)/60/thalf,nonspecific=None,\n",
    "pcrE=2,kdavg=1e5,kdstd=0.7)\n",
    "\n",
    "s = Selection(lib,seed=42)\n",
    "\n",
    "_=s.Bind(inputCount=1e15,volume=100,targetConc=10,incubateTime=120,nonspecific=1e-5,rareTreat=1e-3,\n",
    "        method='kinetic',stochasticCutoff=1e3,seCutoff=1e-4,maxiteration=1e5) \\\n",
    ".Wash(washTime=5,nsHalflife=10)\\\n",
    ".Amplify(targetcount=1e14)"
   ]
  },
  {
   "cell_type": "code",
   "execution_count": 22,
   "metadata": {},
   "outputs": [
    {
     "data": {
      "image/png": "[encoded data removed]",
      "text/plain": [
       "<Figure size 432x288 with 1 Axes>"
      ]
     },
     "metadata": {
      "needs_background": "light"
     },
     "output_type": "display_data"
    }
   ],
   "source": [
    "_=s['R1'].plotBindingKinetics(index=-100,type='s')"
   ]
  },
  {
   "cell_type": "code",
   "execution_count": 10,
   "metadata": {},
   "outputs": [
    {
     "data": {
      "text/plain": [
       "1652"
      ]
     },
     "execution_count": 10,
     "metadata": {},
     "output_type": "execute_result"
    }
   ],
   "source": [
    "len(s['R1'].ssTrace[0][1])"
   ]
  },
  {
   "cell_type": "code",
   "execution_count": null,
   "metadata": {},
   "outputs": [],
   "source": []
  },
  {
   "cell_type": "code",
   "execution_count": null,
   "metadata": {},
   "outputs": [],
   "source": []
  },
  {
   "cell_type": "code",
   "execution_count": null,
   "metadata": {},
   "outputs": [],
   "source": []
  }
 ],
 "metadata": {
  "kernelspec": {
   "display_name": "Python 3",
   "language": "python",
   "name": "python3"
  },
  "language_info": {
   "codemirror_mode": {
    "name": "ipython",
    "version": 3
   },
   "file_extension": ".py",
   "mimetype": "text/x-python",
   "name": "python",
   "nbconvert_exporter": "python",
   "pygments_lexer": "ipython3",
   "version": "3.7.4"
  }
 },
 "nbformat": 4,
 "nbformat_minor": 2
}
